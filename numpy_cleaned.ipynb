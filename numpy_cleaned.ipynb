{
 "cells": [
  {
   "cell_type": "markdown",
   "id": "8e05bcdb",
   "metadata": {},
   "source": [
    "## Numpy - Numerical computation in Python"
   ]
  },
  {
   "cell_type": "code",
   "execution_count": null,
   "id": "11fe42ae",
   "metadata": {},
   "outputs": [],
   "source": [
    "# Computation in python\n",
    "def crop_yield(region, weights):\n",
    "  result=0\n",
    "\n",
    "  for x, w in zip(region, weights):\n",
    "    result+=x*w\n",
    "\n",
    "  return result\n",
    "\n",
    "kanto=[73, 67, 43]\n",
    "weights=[0.3, 0.2, 0.5]\n",
    "total_yield=crop_yield(kanto, weights)\n",
    "\n",
    "print(f\"The total yield of apples in kanto region is {total_yield}\")"
   ]
  },
  {
   "cell_type": "code",
   "execution_count": null,
   "id": "f5496c14",
   "metadata": {},
   "outputs": [],
   "source": [
    "import numpy as np"
   ]
  },
  {
   "cell_type": "code",
   "execution_count": null,
   "id": "829b02bf",
   "metadata": {},
   "outputs": [],
   "source": [
    "kanto=[73, 67, 43]\n",
    "np_kanto=np.array(kanto)\n",
    "type(np_kanto)"
   ]
  },
  {
   "cell_type": "code",
   "execution_count": null,
   "id": "97a959f8",
   "metadata": {},
   "outputs": [],
   "source": [
    "weights=[0.3, 0.2, 0.5]\n",
    "np_weights=np.array(weights)\n",
    "type(np_weights)"
   ]
  },
  {
   "cell_type": "code",
   "execution_count": null,
   "id": "71cfbe12",
   "metadata": {},
   "outputs": [],
   "source": [
    "# Dot product\n",
    "total_yield=np.dot(np_kanto, np_weights)\n",
    "print(total_yield)"
   ]
  },
  {
   "cell_type": "code",
   "execution_count": null,
   "id": "7c476051",
   "metadata": {},
   "outputs": [],
   "source": [
    "# sum() function\n",
    "total_yield=(np_kanto*np_weights).sum()\n",
    "print(total_yield)"
   ]
  },
  {
   "cell_type": "code",
   "execution_count": null,
   "id": "da229aae",
   "metadata": {},
   "outputs": [],
   "source": [
    "# Python lists\n",
    "arr1=list(range(1000000))\n",
    "arr2=list(range(1000000, 2000000))\n",
    "\n",
    "# Numpy arrays\n",
    "np_arr1=np.array(arr1)\n",
    "np_arr2=np.array(arr2)"
   ]
  },
  {
   "cell_type": "code",
   "execution_count": null,
   "id": "525e23e5",
   "metadata": {},
   "outputs": [],
   "source": [
    "%%time\n",
    "result=0\n",
    "for x1, x2 in zip(arr1, arr2):\n",
    "  result+=x1*x2\n",
    "print(result)"
   ]
  },
  {
   "cell_type": "code",
   "execution_count": null,
   "id": "be6ef0da",
   "metadata": {},
   "outputs": [],
   "source": [
    "%%time\n",
    "print(np.dot(np_arr1, np_arr2))"
   ]
  },
  {
   "cell_type": "markdown",
   "id": "55c476e9",
   "metadata": {},
   "source": [
    "### Multi-dimensional numpy arrays"
   ]
  },
  {
   "cell_type": "code",
   "execution_count": null,
   "id": "77e0cba1",
   "metadata": {},
   "outputs": [],
   "source": [
    "# 2D array\n",
    "np_climate=np.array([[73, 67, 43],\n",
    "                     [91, 88, 64],\n",
    "                     [87, 134, 58],\n",
    "                     [102, 43, 37],\n",
    "                     [69, 96, 70]])\n",
    "np_climate"
   ]
  },
  {
   "cell_type": "code",
   "execution_count": null,
   "id": "8e383ded",
   "metadata": {},
   "outputs": [],
   "source": [
    "# Dimensions of the numpy array\n",
    "print(np_climate.shape)\n",
    "print(np_weights.shape)"
   ]
  },
  {
   "cell_type": "code",
   "execution_count": null,
   "id": "8ee1fabb",
   "metadata": {},
   "outputs": [],
   "source": [
    "# 3D array\n",
    "np_coordinates=np.array([\n",
    "  [[11, 12, 13],\n",
    "   [13, 14, 15]],\n",
    "  [[15, 16, 17],\n",
    "   [17, 18, 19.5]]\n",
    "])\n",
    "np_coordinates"
   ]
  },
  {
   "cell_type": "code",
   "execution_count": null,
   "id": "af193af3",
   "metadata": {},
   "outputs": [],
   "source": [
    "print(np_coordinates.shape)"
   ]
  },
  {
   "cell_type": "code",
   "execution_count": null,
   "id": "277306c3",
   "metadata": {},
   "outputs": [],
   "source": [
    "# Data type of numpy array\n",
    "print(np_weights.dtype)\n",
    "print(np_climate.dtype)\n",
    "print(np_coordinates.dtype)"
   ]
  },
  {
   "cell_type": "code",
   "execution_count": null,
   "id": "dfa61f16",
   "metadata": {},
   "outputs": [],
   "source": [
    "# Matrix multiplication\n",
    "matmul_array=np.matmul(np_climate, np_weights)\n",
    "matmul_array"
   ]
  },
  {
   "cell_type": "markdown",
   "id": "692f0ecb",
   "metadata": {},
   "source": [
    "### Working with CSV files"
   ]
  },
  {
   "cell_type": "code",
   "execution_count": null,
   "id": "7a7e82ea",
   "metadata": {},
   "outputs": [],
   "source": [
    "# urllib.request.urlretreive - to copy from a url\n",
    "# shutil - to copy from local system\n",
    "\n",
    "import shutil\n",
    "shutil.copy('C:\\\\Users\\\\Kushal\\\\Downloads\\\\weather_data.csv', 'climate.txt')"
   ]
  },
  {
   "cell_type": "code",
   "execution_count": null,
   "id": "c68bc023",
   "metadata": {},
   "outputs": [],
   "source": [
    "climate_data=np.genfromtxt('climate.txt', delimiter=',', skip_header=1)"
   ]
  },
  {
   "cell_type": "code",
   "execution_count": null,
   "id": "59831c72",
   "metadata": {},
   "outputs": [],
   "source": [
    "climate_data"
   ]
  },
  {
   "cell_type": "code",
   "execution_count": null,
   "id": "54e4fe59",
   "metadata": {},
   "outputs": [],
   "source": [
    "climate_data.shape"
   ]
  },
  {
   "cell_type": "code",
   "execution_count": null,
   "id": "a64b1256",
   "metadata": {},
   "outputs": [],
   "source": [
    "tot_yield=np.matmul(climate_data, np_weights)\n",
    "print(tot_yield)\n",
    "print(tot_yield.shape)"
   ]
  },
  {
   "cell_type": "code",
   "execution_count": null,
   "id": "4977508a",
   "metadata": {},
   "outputs": [],
   "source": [
    "# Concatenation\n",
    "climate_results=np.concatenate((climate_data, tot_yield.reshape(10000, 1)), axis=1)"
   ]
  },
  {
   "cell_type": "code",
   "execution_count": null,
   "id": "a6210dac",
   "metadata": {},
   "outputs": [],
   "source": [
    "climate_results"
   ]
  },
  {
   "cell_type": "code",
   "execution_count": null,
   "id": "b8ae9aff",
   "metadata": {},
   "outputs": [],
   "source": [
    "np.savetxt('climate.txt',\n",
    "           climate_results,\n",
    "           fmt='%.2f',\n",
    "           header='temperature,rainfall,humidity,yield_apples',\n",
    "           comments='')"
   ]
  },
  {
   "cell_type": "markdown",
   "id": "2b5cea04",
   "metadata": {},
   "source": [
    "### Arithmetic operations and broadcasting"
   ]
  },
  {
   "cell_type": "code",
   "execution_count": null,
   "id": "74f780f6",
   "metadata": {},
   "outputs": [],
   "source": [
    "arr1=np.array([[1, 2, 3, 4],\n",
    "               [5, 6, 7, 8],\n",
    "               [9, 1, 2, 3]])"
   ]
  },
  {
   "cell_type": "code",
   "execution_count": null,
   "id": "c03abeeb",
   "metadata": {},
   "outputs": [],
   "source": [
    "arr2=np.array([[11, 12, 13, 14],\n",
    "               [15, 16, 17, 18],\n",
    "               [19, 11, 12, 13]])"
   ]
  },
  {
   "cell_type": "code",
   "execution_count": null,
   "id": "b7f24ba0",
   "metadata": {},
   "outputs": [],
   "source": [
    "arr1+arr2"
   ]
  },
  {
   "cell_type": "code",
   "execution_count": null,
   "id": "5f140a48",
   "metadata": {},
   "outputs": [],
   "source": [
    "# Adding a scalar\n",
    "arr1+3"
   ]
  },
  {
   "cell_type": "code",
   "execution_count": null,
   "id": "db0ad0cb",
   "metadata": {},
   "outputs": [],
   "source": [
    "arr2-arr1"
   ]
  },
  {
   "cell_type": "code",
   "execution_count": null,
   "id": "49244aa7",
   "metadata": {},
   "outputs": [],
   "source": [
    "arr2/2"
   ]
  },
  {
   "cell_type": "code",
   "execution_count": null,
   "id": "2f169b34",
   "metadata": {},
   "outputs": [],
   "source": [
    "arr1*arr2"
   ]
  },
  {
   "cell_type": "code",
   "execution_count": null,
   "id": "d6dea7b9",
   "metadata": {},
   "outputs": [],
   "source": [
    "arr2"
   ]
  },
  {
   "cell_type": "code",
   "execution_count": null,
   "id": "82983bf6",
   "metadata": {},
   "outputs": [],
   "source": [
    "arr2.shape"
   ]
  },
  {
   "cell_type": "code",
   "execution_count": null,
   "id": "8f5bba0f",
   "metadata": {},
   "outputs": [],
   "source": [
    "arr3=np.array([4, 5, 6, 7])"
   ]
  },
  {
   "cell_type": "code",
   "execution_count": null,
   "id": "c7276c65",
   "metadata": {},
   "outputs": [],
   "source": [
    "arr3.shape"
   ]
  },
  {
   "cell_type": "code",
   "execution_count": null,
   "id": "9974a39a",
   "metadata": {},
   "outputs": [],
   "source": [
    "'''Broadcasting - the 1D array replicates itself to number \n",
    "of rows of 2D array and then performs the operations. We have\n",
    "to make sure the columns in both the arrays are equal'''\n",
    "arr2+arr3"
   ]
  },
  {
   "cell_type": "code",
   "execution_count": null,
   "id": "3c664946",
   "metadata": {},
   "outputs": [],
   "source": [
    "a1=np.array([[1, 2, 3],\n",
    "             [3, 4, 5]])"
   ]
  },
  {
   "cell_type": "code",
   "execution_count": null,
   "id": "16678e12",
   "metadata": {},
   "outputs": [],
   "source": [
    "a1"
   ]
  },
  {
   "cell_type": "code",
   "execution_count": null,
   "id": "38b6bc88",
   "metadata": {},
   "outputs": [],
   "source": [
    "a2=np.array([[2, 2, 3],\n",
    "             [1, 2, 5]])"
   ]
  },
  {
   "cell_type": "code",
   "execution_count": null,
   "id": "48cdd5f7",
   "metadata": {},
   "outputs": [],
   "source": [
    "a2"
   ]
  },
  {
   "cell_type": "code",
   "execution_count": null,
   "id": "b59cdddb",
   "metadata": {},
   "outputs": [],
   "source": [
    "a1==a2"
   ]
  },
  {
   "cell_type": "code",
   "execution_count": null,
   "id": "a3df6057",
   "metadata": {},
   "outputs": [],
   "source": [
    "a1!=a2"
   ]
  },
  {
   "cell_type": "code",
   "execution_count": null,
   "id": "3bd28ddc",
   "metadata": {},
   "outputs": [],
   "source": [
    "a1>=a2"
   ]
  },
  {
   "cell_type": "code",
   "execution_count": null,
   "id": "ca64689a",
   "metadata": {},
   "outputs": [],
   "source": [
    "a1<=a2"
   ]
  },
  {
   "cell_type": "code",
   "execution_count": null,
   "id": "4c61189a",
   "metadata": {},
   "outputs": [],
   "source": [
    "(a1==a2).sum()"
   ]
  },
  {
   "cell_type": "markdown",
   "id": "6972a602",
   "metadata": {},
   "source": [
    "### Array slicing and indexing"
   ]
  },
  {
   "cell_type": "code",
   "execution_count": null,
   "id": "fe0db740",
   "metadata": {},
   "outputs": [],
   "source": [
    "arr=np.array([\n",
    "  [[11, 12, 13, 14],\n",
    "   [13, 14, 15, 19]],\n",
    "  [[16, 16, 17, 21],\n",
    "   [63, 92, 36, 18]],\n",
    "  [[98, 32, 81, 23],\n",
    "   [17, 18, 19.5, 43]]\n",
    "])"
   ]
  },
  {
   "cell_type": "code",
   "execution_count": null,
   "id": "921e0fc9",
   "metadata": {},
   "outputs": [],
   "source": [
    "arr.shape"
   ]
  },
  {
   "cell_type": "code",
   "execution_count": null,
   "id": "36eccc0f",
   "metadata": {},
   "outputs": [],
   "source": [
    "arr[1]"
   ]
  },
  {
   "cell_type": "code",
   "execution_count": null,
   "id": "a0493f5c",
   "metadata": {},
   "outputs": [],
   "source": [
    "arr[1][1]"
   ]
  },
  {
   "cell_type": "code",
   "execution_count": null,
   "id": "55ae9356",
   "metadata": {},
   "outputs": [],
   "source": [
    "# Single element\n",
    "arr[1][1][2]"
   ]
  },
  {
   "cell_type": "code",
   "execution_count": null,
   "id": "57bd66c2",
   "metadata": {},
   "outputs": [],
   "source": [
    "# Indexing using ranges\n",
    "arr[1:, 0:1, :2]"
   ]
  },
  {
   "cell_type": "code",
   "execution_count": null,
   "id": "d659fa1a",
   "metadata": {},
   "outputs": [],
   "source": [
    "# Mixing indices and ranges\n",
    "arr[1:, 1, 3]"
   ]
  },
  {
   "cell_type": "code",
   "execution_count": null,
   "id": "a7fd63da",
   "metadata": {},
   "outputs": [],
   "source": [
    "arr[1:, 1, :3]"
   ]
  },
  {
   "cell_type": "code",
   "execution_count": null,
   "id": "8c0be636",
   "metadata": {},
   "outputs": [],
   "source": [
    "arr[:2, 1]"
   ]
  },
  {
   "cell_type": "markdown",
   "id": "99f939d7",
   "metadata": {},
   "source": [
    "### Other ways of creating Numpy arrays"
   ]
  },
  {
   "cell_type": "code",
   "execution_count": null,
   "id": "fee34ab4",
   "metadata": {},
   "outputs": [],
   "source": [
    "# All zeroes\n",
    "np.zeros((3, 2, 2))"
   ]
  },
  {
   "cell_type": "code",
   "execution_count": null,
   "id": "f5359788",
   "metadata": {},
   "outputs": [],
   "source": [
    "# All ones\n",
    "np.ones([2, 2, 3])"
   ]
  },
  {
   "cell_type": "code",
   "execution_count": null,
   "id": "6ef4918e",
   "metadata": {},
   "outputs": [],
   "source": [
    "# Identity matrix\n",
    "np.eye(3)"
   ]
  },
  {
   "cell_type": "code",
   "execution_count": null,
   "id": "8e7f06e5",
   "metadata": {},
   "outputs": [],
   "source": [
    "# Random vector\n",
    "np.random.rand(5)"
   ]
  },
  {
   "cell_type": "code",
   "execution_count": null,
   "id": "0c43ca3c",
   "metadata": {},
   "outputs": [],
   "source": [
    "# Random matrix\n",
    "np.random.randn(2, 3)"
   ]
  },
  {
   "cell_type": "markdown",
   "id": "c8a475a5",
   "metadata": {},
   "source": [
    "##### np.random.rand generates samples from a uniform distribution between 0 and 1. np.random.randn generates samples from a standard normal distribution with mean 0 and std 1"
   ]
  },
  {
   "cell_type": "code",
   "execution_count": null,
   "id": "299ee53c",
   "metadata": {},
   "outputs": [],
   "source": [
    "# Fixed value\n",
    "np.full([2, 3], 42)"
   ]
  },
  {
   "cell_type": "code",
   "execution_count": null,
   "id": "02d3d624",
   "metadata": {},
   "outputs": [],
   "source": [
    "# Range with start, end, step\n",
    "np.arange(10, 90, 3)"
   ]
  },
  {
   "cell_type": "code",
   "execution_count": null,
   "id": "535c3aba",
   "metadata": {},
   "outputs": [],
   "source": [
    "# Equally spaced numbers in a range\n",
    "np.linspace(3, 27, 9)"
   ]
  },
  {
   "cell_type": "code",
   "execution_count": null,
   "id": "7de5832d",
   "metadata": {},
   "outputs": [],
   "source": [
    "np.arange(10, 90, 3).shape"
   ]
  },
  {
   "cell_type": "code",
   "execution_count": null,
   "id": "cc9c23f2",
   "metadata": {},
   "outputs": [],
   "source": [
    "np.arange(10, 90, 3).reshape(3, 3, 3)"
   ]
  },
  {
   "cell_type": "markdown",
   "id": "753a34e8",
   "metadata": {},
   "source": [
    "### Important Numpy functions"
   ]
  },
  {
   "cell_type": "markdown",
   "id": "8b02c0b0",
   "metadata": {},
   "source": [
    "##### Function 1 - np.concatenate"
   ]
  },
  {
   "cell_type": "code",
   "execution_count": null,
   "id": "26536f3a",
   "metadata": {},
   "outputs": [],
   "source": [
    "arr1=[[1, 2],\n",
    "      [3, 4.]]\n",
    "\n",
    "arr2=[[5, 6, 7],\n",
    "      [8, 9, 10]]\n",
    "\n",
    "np.concatenate((arr1, arr2), axis=1)\n",
    "\n",
    "'''With axis=0, all the input array dimensions except for the \n",
    "concatenation axis must match exactly, but along dimension 1, \n",
    "the array at index 0 has size 2 and the array at index 1 has size 3'''"
   ]
  },
  {
   "cell_type": "markdown",
   "id": "c648dbc1",
   "metadata": {},
   "source": [
    "##### Function 2 - np.max"
   ]
  },
  {
   "cell_type": "code",
   "execution_count": null,
   "id": "61555bf6",
   "metadata": {},
   "outputs": [],
   "source": [
    "np.max([1, 2, 3, 4, 5])"
   ]
  },
  {
   "cell_type": "markdown",
   "id": "0934f0a0",
   "metadata": {},
   "source": [
    "##### Function 3 - np.min"
   ]
  },
  {
   "cell_type": "code",
   "execution_count": null,
   "id": "c5b896f8",
   "metadata": {},
   "outputs": [],
   "source": [
    "np.min([1, 2, 3, 4, 5])"
   ]
  },
  {
   "cell_type": "markdown",
   "id": "a85fbb23",
   "metadata": {},
   "source": [
    "##### Function 4 - np.mean"
   ]
  },
  {
   "cell_type": "code",
   "execution_count": null,
   "id": "8c3194e5",
   "metadata": {},
   "outputs": [],
   "source": [
    "np.mean([1, 2, 3, 4, 5])"
   ]
  },
  {
   "cell_type": "markdown",
   "id": "e6fb8bdc",
   "metadata": {},
   "source": [
    "##### Function 5 - np.median"
   ]
  },
  {
   "cell_type": "code",
   "execution_count": null,
   "id": "137ed690",
   "metadata": {},
   "outputs": [],
   "source": [
    "np.median([1, 2, 3, 4, 5])"
   ]
  },
  {
   "cell_type": "markdown",
   "id": "c914bde5",
   "metadata": {},
   "source": [
    "### File Handling with os library"
   ]
  },
  {
   "cell_type": "code",
   "execution_count": null,
   "id": "d4adebc2",
   "metadata": {},
   "outputs": [],
   "source": [
    "import os"
   ]
  },
  {
   "cell_type": "code",
   "execution_count": null,
   "id": "68a46667",
   "metadata": {},
   "outputs": [],
   "source": [
    "# Checking the present working directory\n",
    "os.getcwd()"
   ]
  },
  {
   "cell_type": "code",
   "execution_count": null,
   "id": "840db3c5",
   "metadata": {},
   "outputs": [],
   "source": [
    "# To get the names of files in the directory - relative path\n",
    "os.listdir('.')"
   ]
  },
  {
   "cell_type": "code",
   "execution_count": null,
   "id": "1dd2d2e7",
   "metadata": {},
   "outputs": [],
   "source": [
    "# To get the names of files in the directory - absolute path\n",
    "os.listdir(r'D:\\\\python-for-ai\\\\Numpy')"
   ]
  },
  {
   "cell_type": "code",
   "execution_count": null,
   "id": "b67d718f",
   "metadata": {},
   "outputs": [],
   "source": [
    "# Create a new directory\n",
    "os.makedirs('./data', exist_ok=True)"
   ]
  },
  {
   "cell_type": "code",
   "execution_count": null,
   "id": "e1dcc9fd",
   "metadata": {},
   "outputs": [],
   "source": [
    "'data' in os.listdir('.')"
   ]
  },
  {
   "cell_type": "code",
   "execution_count": null,
   "id": "736fff40",
   "metadata": {},
   "outputs": [],
   "source": [
    "os.listdir('./data')"
   ]
  },
  {
   "cell_type": "code",
   "execution_count": null,
   "id": "0e26b248",
   "metadata": {},
   "outputs": [],
   "source": [
    "# Reading from a file\n",
    "file1=open('./data/climate.txt', mode='r')"
   ]
  },
  {
   "cell_type": "code",
   "execution_count": null,
   "id": "42331274",
   "metadata": {},
   "outputs": [],
   "source": [
    "file1_contents=file1.read()"
   ]
  },
  {
   "cell_type": "code",
   "execution_count": null,
   "id": "114292e8",
   "metadata": {},
   "outputs": [],
   "source": [
    "print(file1_contents)"
   ]
  },
  {
   "cell_type": "code",
   "execution_count": null,
   "id": "07622c16",
   "metadata": {},
   "outputs": [],
   "source": [
    "file1.close()"
   ]
  },
  {
   "cell_type": "code",
   "execution_count": null,
   "id": "615a2a7e",
   "metadata": {},
   "outputs": [],
   "source": [
    "'''with function - Once the statements within the with block are \n",
    "executed, the .close method on file is automatically invoked\n",
    "'''\n",
    "\n",
    "with open('./data/climate.txt', 'r') as file2:\n",
    "  file2_contents=file2.read()\n",
    "  print(file2_contents)"
   ]
  },
  {
   "cell_type": "code",
   "execution_count": null,
   "id": "89e8d6d8",
   "metadata": {},
   "outputs": [],
   "source": [
    "# Reading individual lines\n",
    "with open('./data/climate.txt', 'r') as file3:\n",
    "  file3_contents=file3.readlines()\n",
    "  print(file3_contents)"
   ]
  },
  {
   "cell_type": "markdown",
   "id": "5171f0c6",
   "metadata": {},
   "source": [
    "### Processing data from files"
   ]
  },
  {
   "cell_type": "code",
   "execution_count": null,
   "id": "6aa7e373",
   "metadata": {},
   "outputs": [],
   "source": [
    "def parse_headers(header_line):\n",
    "  return header_line.strip().split(',')"
   ]
  },
  {
   "cell_type": "code",
   "execution_count": null,
   "id": "c32d4f0c",
   "metadata": {},
   "outputs": [],
   "source": [
    "file4=open('./data/climate.txt', mode='r')\n",
    "file4_contents=file4.readlines()\n",
    "print(file4_contents)"
   ]
  },
  {
   "cell_type": "code",
   "execution_count": null,
   "id": "9e77403a",
   "metadata": {},
   "outputs": [],
   "source": [
    "headers=file4_contents[0]\n",
    "headers"
   ]
  },
  {
   "cell_type": "code",
   "execution_count": null,
   "id": "e1c278ff",
   "metadata": {},
   "outputs": [],
   "source": [
    "parsed_headers=parse_headers(headers)\n",
    "parsed_headers"
   ]
  },
  {
   "cell_type": "code",
   "execution_count": null,
   "id": "d299a96b",
   "metadata": {},
   "outputs": [],
   "source": [
    "file4_contents[2]"
   ]
  },
  {
   "cell_type": "code",
   "execution_count": null,
   "id": "f78a58b6",
   "metadata": {},
   "outputs": [],
   "source": [
    "def parse_values(data_line):\n",
    "  data_values=[]\n",
    "  for item in data_line.strip().split(' '):\n",
    "    data_values.append(float(item))\n",
    "  return data_values"
   ]
  },
  {
   "cell_type": "code",
   "execution_count": null,
   "id": "abb3088a",
   "metadata": {},
   "outputs": [],
   "source": [
    "data_values=parse_values(file4_contents[1])\n",
    "data_values"
   ]
  },
  {
   "cell_type": "code",
   "execution_count": null,
   "id": "838c455a",
   "metadata": {},
   "outputs": [],
   "source": [
    "def create_item_dict(headers, values):\n",
    "  result={}\n",
    "  for header, value in zip(headers, values):\n",
    "    result[header]=value\n",
    "  return result"
   ]
  },
  {
   "cell_type": "code",
   "execution_count": null,
   "id": "29dbaf4a",
   "metadata": {},
   "outputs": [],
   "source": [
    "create_item_dict(parsed_headers, data_values)"
   ]
  },
  {
   "cell_type": "code",
   "execution_count": null,
   "id": "7e0f9803",
   "metadata": {},
   "outputs": [],
   "source": [
    "def process_file(path):\n",
    "  result=[]\n",
    "\n",
    "  with open(path, 'r') as f:\n",
    "    lines=f.readlines()\n",
    "\n",
    "    headers=parse_headers(lines[0])\n",
    "\n",
    "    for data_line in lines[1:]:\n",
    "      values=parse_values(data_line)\n",
    "      item_dict=create_item_dict(headers, values)\n",
    "      result.append(item_dict)\n",
    "\n",
    "  return result"
   ]
  },
  {
   "cell_type": "code",
   "execution_count": null,
   "id": "a51bdb6b",
   "metadata": {},
   "outputs": [],
   "source": [
    "process_file('./data/climate.txt')"
   ]
  },
  {
   "cell_type": "code",
   "execution_count": null,
   "id": "83f40d1b",
   "metadata": {},
   "outputs": [],
   "source": [
    "# Calculating EMI\n",
    "import math\n",
    "\n",
    "def loan_emi(amount, duration, rate, down_payment=0):\n",
    "  loan_amount=amount-down_payment\n",
    "  try:\n",
    "    emi=loan_amount*rate*((1+rate)**duration)/(((1+rate)**duration)-1)\n",
    "  except ZeroDivisionError:\n",
    "    emi=loan_amount/duration\n",
    "\n",
    "  emi=math.ceil(emi)\n",
    "  return emi"
   ]
  },
  {
   "cell_type": "code",
   "execution_count": null,
   "id": "0043a035",
   "metadata": {},
   "outputs": [],
   "source": [
    "loan_emi(10000, 3, 0.06, 8)"
   ]
  },
  {
   "cell_type": "code",
   "execution_count": null,
   "id": "e327a82d",
   "metadata": {},
   "outputs": [],
   "source": [
    "os.makedirs('./temp', exist_ok=True)"
   ]
  },
  {
   "cell_type": "code",
   "execution_count": null,
   "id": "4d785ae5",
   "metadata": {},
   "outputs": [],
   "source": [
    "with open('./temp/climate.txt', 'w') as f:\n",
    "  f.write('{},{},{},{}\\n'.format(\n",
    "    4.32,\n",
    "    1.29,\n",
    "    34.5,\n",
    "    67.3\n",
    "  ))"
   ]
  },
  {
   "cell_type": "code",
   "execution_count": null,
   "id": "4ee80ced",
   "metadata": {},
   "outputs": [],
   "source": [
    "with open('./temp/climate.txt', 'r') as f:\n",
    "  print(f.readlines())"
   ]
  }
 ],
 "metadata": {
  "kernelspec": {
   "display_name": "Python 3",
   "language": "python",
   "name": "python3"
  },
  "language_info": {
   "codemirror_mode": {
    "name": "ipython",
    "version": 3
   },
   "file_extension": ".py",
   "mimetype": "text/x-python",
   "name": "python",
   "nbconvert_exporter": "python",
   "pygments_lexer": "ipython3",
   "version": "3.11.7"
  }
 },
 "nbformat": 4,
 "nbformat_minor": 5
}